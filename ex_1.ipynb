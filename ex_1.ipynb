{
 "cells": [
  {
   "cell_type": "code",
   "execution_count": 2,
   "id": "8aa5e1ba",
   "metadata": {},
   "outputs": [],
   "source": [
    "import numpy as np\n",
    "import matplotlib.pyplot as plt\n",
    "import time"
   ]
  },
  {
   "cell_type": "markdown",
   "id": "785e2a08",
   "metadata": {},
   "source": [
    "## Task 1"
   ]
  },
  {
   "cell_type": "markdown",
   "id": "cd8b3ed9",
   "metadata": {},
   "source": [
    "### a)\n",
    "compute the product between matrix with a function of numpy"
   ]
  },
  {
   "cell_type": "code",
   "execution_count": 3,
   "id": "79560849",
   "metadata": {},
   "outputs": [],
   "source": [
    "np.random.seed(42)\n",
    "\n",
    "n = 3\n",
    "\n",
    "A = np.random.rand(n, n)\n",
    "B = np.random.rand(n, n)\n",
    "C_1 = np.dot(A, B)"
   ]
  },
  {
   "cell_type": "markdown",
   "id": "390ccce4",
   "metadata": {},
   "source": [
    "### b)\n",
    "computation with for cycles"
   ]
  },
  {
   "cell_type": "code",
   "execution_count": 4,
   "id": "2f499325",
   "metadata": {},
   "outputs": [
    {
     "data": {
      "text/plain": [
       "array([[ True, False,  True],\n",
       "       [ True,  True,  True],\n",
       "       [ True, False,  True]])"
      ]
     },
     "execution_count": 4,
     "metadata": {},
     "output_type": "execute_result"
    }
   ],
   "source": [
    "C_2 = np.zeros((3, 3))\n",
    "\n",
    "for i in range(3):\n",
    "    for j in range(3):\n",
    "        for k in range(3):\n",
    "            C_2[i][j] += A[i][k] * B[k][j]\n",
    "            \n",
    "C_1 == C_2"
   ]
  },
  {
   "cell_type": "markdown",
   "id": "2d196af2",
   "metadata": {},
   "source": [
    "### c)\n",
    "if we swap j with i we get the traspost of the matrix of a) and b)"
   ]
  },
  {
   "cell_type": "code",
   "execution_count": 5,
   "id": "c68e081f",
   "metadata": {},
   "outputs": [],
   "source": [
    "C_3 = np.zeros((3, 3))\n",
    "\n",
    "for j in range(3):\n",
    "    for i in range(3):\n",
    "        for k in range(3):\n",
    "            C_3[i][j] += A[i][k] * B[k][j]"
   ]
  },
  {
   "cell_type": "markdown",
   "id": "6bb1f834",
   "metadata": {},
   "source": [
    "### d)\n",
    "np.sum() in place of the for loop over k."
   ]
  },
  {
   "cell_type": "code",
   "execution_count": 9,
   "id": "79fd623f",
   "metadata": {},
   "outputs": [
    {
     "data": {
      "text/plain": [
       "array([[ True, False,  True],\n",
       "       [ True,  True,  True],\n",
       "       [ True, False,  True]])"
      ]
     },
     "execution_count": 9,
     "metadata": {},
     "output_type": "execute_result"
    }
   ],
   "source": [
    "C_4 = np.zeros((3, 3))\n",
    "\n",
    "for i in range(3):\n",
    "    for j in range(3):\n",
    "        C_4[i][j] = np.sum(A[i] * B.T[j])\n",
    "            \n",
    "C_1 == C_4"
   ]
  },
  {
   "cell_type": "markdown",
   "id": "b92426e9",
   "metadata": {},
   "source": [
    "### e)\n",
    "the same as d) but transposing A"
   ]
  },
  {
   "cell_type": "code",
   "execution_count": 10,
   "id": "0a91d225",
   "metadata": {},
   "outputs": [],
   "source": [
    "C_5 = np.zeros((3, 3))\n",
    "\n",
    "for i in range(3):\n",
    "    for j in range(3):\n",
    "        C_5[i][j] = np.sum(A.T[i] * B.T[j])"
   ]
  },
  {
   "cell_type": "markdown",
   "id": "1ad32d16",
   "metadata": {},
   "source": [
    "### f)\n",
    "the same as e) but transposing B"
   ]
  },
  {
   "cell_type": "code",
   "execution_count": 11,
   "id": "d457f272",
   "metadata": {},
   "outputs": [],
   "source": [
    "C_6 = np.zeros((3, 3))\n",
    "\n",
    "for i in range(3):\n",
    "    for j in range(3):\n",
    "        C_6[i][j] = np.sum(A.T[i] * B[j])"
   ]
  },
  {
   "cell_type": "markdown",
   "id": "8c68ca0c",
   "metadata": {},
   "source": [
    "### g)"
   ]
  },
  {
   "cell_type": "code",
   "execution_count": 14,
   "id": "9ae02428",
   "metadata": {},
   "outputs": [],
   "source": [
    "np.random.seed(42)\n",
    "\n",
    "def af(n):\n",
    "    #a\n",
    "    A = np.random.rand(n, n)\n",
    "    B = np.random.rand(n, n)\n",
    "    C_1 = np.dot(A, B)\n",
    "    \n",
    "    #b\n",
    "    C_2 = np.zeros((n, n))\n",
    "\n",
    "    for i in range(n):\n",
    "        for j in range(n):\n",
    "            for k in range(n):\n",
    "                C_2[i][j] += A[i][k] * B[k][j]\n",
    "                \n",
    "    #c\n",
    "    C_3 = np.zeros((n, n))\n",
    "\n",
    "    for j in range(n):\n",
    "        for i in range(n):\n",
    "            for k in range(n):\n",
    "                C_3[i][j] += A[i][k] * B[k][j]    \n",
    "    \n",
    "    #d\n",
    "    C_4 = np.zeros((n, n))\n",
    "\n",
    "    for i in range(n):\n",
    "        for j in range(n):\n",
    "            C_4[i][j] = np.sum(A[i] * B.T[j])    \n",
    "\n",
    "    #e\n",
    "    C_5 = np.zeros((n, n))\n",
    "\n",
    "    for i in range(n):\n",
    "        for j in range(n):\n",
    "            C_5[i][j] = np.sum(A.T[i] * B.T[j])\n",
    "    \n",
    "    \n",
    "    #f\n",
    "    C_6 = np.zeros((n, n))\n",
    "    for i in range(n):\n",
    "        for j in range(n):\n",
    "            C_6[i][j] = np.sum(A.T[i] * B[j])    \n",
    "\n",
    "    "
   ]
  },
  {
   "cell_type": "code",
   "execution_count": 22,
   "id": "0aeb17b7",
   "metadata": {},
   "outputs": [],
   "source": [
    "ite = [10, 50, 100, 200]\n",
    "run_times = np.zeros(len(ite))\n",
    "\n",
    "for i, n in enumerate(ite):\n",
    "\n",
    "    start = time.time()\n",
    "    af(n)\n",
    "    end = time.time()  \n",
    "    run_times[i] = end - start"
   ]
  },
  {
   "cell_type": "code",
   "execution_count": 24,
   "id": "8afbc549",
   "metadata": {},
   "outputs": [
    {
     "data": {
      "image/png": "[encoded data removed]",
      "text/plain": [
       "<Figure size 640x480 with 1 Axes>"
      ]
     },
     "metadata": {},
     "output_type": "display_data"
    }
   ],
   "source": [
    "plt.plot(ite, run_times, marker='o')\n",
    "plt.ylabel('seconds')\n",
    "plt.show()"
   ]
  },
  {
   "cell_type": "markdown",
   "id": "1e6b8204",
   "metadata": {},
   "source": [
    "### h)"
   ]
  },
  {
   "cell_type": "code",
   "execution_count": 84,
   "id": "b934a96e",
   "metadata": {},
   "outputs": [],
   "source": [
    "list_1 = [10, 20, 50, 100, 200, 500, 1000, 2000, 5000]\n",
    "t_1 = np.zeros(len(list_1))\n",
    "\n",
    "for i, n in enumerate(list_1):\n",
    "    start = time.time()\n",
    "    #a\n",
    "    A = np.random.rand(n, n)\n",
    "    B = np.random.rand(n, n)\n",
    "    C_1 = np.dot(A, B)\n",
    "    end = time.time()\n",
    "    t_1[i] = end - start\n",
    "    "
   ]
  },
  {
   "cell_type": "code",
   "execution_count": 106,
   "id": "459a56e5",
   "metadata": {},
   "outputs": [],
   "source": [
    "# list_2 = [10, 20, 50, 100, 200, 500, 1000]\n",
    "list_2 = [10, 20, 50, 100, 200, 500]\n",
    "t_2 = np.zeros(len(list_2))\n",
    "\n",
    "for s, n in enumerate(list_2):\n",
    "    start = time.time()\n",
    "    #b\n",
    "    A = np.random.rand(n, n)\n",
    "    B = np.random.rand(n, n)\n",
    "    C_2 = np.zeros((n, n))\n",
    "\n",
    "    for i in range(n):\n",
    "        for j in range(n):\n",
    "            for k in range(n):\n",
    "                C_2[i][j] += A[i][k] * B[k][j]\n",
    "                \n",
    "    end = time.time()\n",
    "    t_2[s] = end - start"
   ]
  },
  {
   "cell_type": "code",
   "execution_count": 118,
   "id": "18e0e8c1",
   "metadata": {},
   "outputs": [
    {
     "data": {
      "image/png": "[encoded data removed]",
      "text/plain": [
       "<Figure size 640x480 with 1 Axes>"
      ]
     },
     "metadata": {},
     "output_type": "display_data"
    }
   ],
   "source": [
    "plt.plot(list_1, t_1, label='built-in', marker='o', markersize=4)\n",
    "plt.plot(list_2, t_2, marker='o', markersize=4)\n",
    "\n",
    "plt.ylabel('seconds')\n",
    "plt.xlabel('size')\n",
    "plt.legend()\n",
    "plt.show()"
   ]
  },
  {
   "cell_type": "markdown",
   "id": "e8216e99",
   "metadata": {},
   "source": [
    "## Task 2"
   ]
  },
  {
   "cell_type": "markdown",
   "id": "a8e176c9",
   "metadata": {},
   "source": [
    "### a)"
   ]
  },
  {
   "cell_type": "code",
   "execution_count": 10,
   "id": "343d003c",
   "metadata": {},
   "outputs": [
    {
     "name": "stdout",
     "output_type": "stream",
     "text": [
      "iteration = 52\n",
      "epsilon = 2.220446049250313e-16\n"
     ]
    }
   ],
   "source": [
    "epsilon = 1\n",
    "for i in range(1,100):\n",
    "    epsilon /= 2\n",
    "    if 1 == (epsilon + 1):\n",
    "        break\n",
    "        \n",
    "max_ite = i - 1   \n",
    "eps = epsilon * 2\n",
    "\n",
    "print(f'iteration = {max_ite}')\n",
    "print(f'epsilon = {eps}')"
   ]
  },
  {
   "cell_type": "markdown",
   "id": "05c9df84",
   "metadata": {},
   "source": [
    "### b)"
   ]
  },
  {
   "cell_type": "code",
   "execution_count": 13,
   "id": "9a9ef21c",
   "metadata": {},
   "outputs": [],
   "source": [
    "def f(a):\n",
    "    return (1 / 2)**a"
   ]
  },
  {
   "cell_type": "code",
   "execution_count": 15,
   "id": "6a4960e5",
   "metadata": {},
   "outputs": [
    {
     "data": {
      "text/plain": [
       "True"
      ]
     },
     "execution_count": 15,
     "metadata": {},
     "output_type": "execute_result"
    }
   ],
   "source": [
    "f(max_ite) == eps"
   ]
  },
  {
   "cell_type": "markdown",
   "id": "623d2326",
   "metadata": {},
   "source": [
    "### c)"
   ]
  },
  {
   "cell_type": "code",
   "execution_count": 11,
   "id": "964ff050",
   "metadata": {},
   "outputs": [
    {
     "name": "stdout",
     "output_type": "stream",
     "text": [
      "2.220446049250313e-16\n"
     ]
    }
   ],
   "source": [
    "epsilon = 1\n",
    "while 1 != (epsilon + 1):\n",
    "    epsilon /= 2\n",
    "    \n",
    "print(epsilon*2)"
   ]
  },
  {
   "cell_type": "markdown",
   "id": "13ce5442",
   "metadata": {},
   "source": [
    "### d)"
   ]
  },
  {
   "cell_type": "code",
   "execution_count": 12,
   "id": "704ec050",
   "metadata": {},
   "outputs": [
    {
     "name": "stdout",
     "output_type": "stream",
     "text": [
      "1.0000000000000002\n",
      "1.0\n"
     ]
    }
   ],
   "source": [
    "print(1 + eps)\n",
    "print(1 + eps/2)"
   ]
  },
  {
   "cell_type": "code",
   "execution_count": 9,
   "id": "577ce75c",
   "metadata": {},
   "outputs": [
    {
     "name": "stdout",
     "output_type": "stream",
     "text": [
      "1.0000000000000002\n",
      "1.0\n"
     ]
    }
   ],
   "source": [
    "print(1 + epsilon*2)\n",
    "print(1 + epsilon)"
   ]
  }
 ],
 "metadata": {
  "kernelspec": {
   "display_name": "Python 3 (ipykernel)",
   "language": "python",
   "name": "python3"
  },
  "language_info": {
   "codemirror_mode": {
    "name": "ipython",
    "version": 3
   },
   "file_extension": ".py",
   "mimetype": "text/x-python",
   "name": "python",
   "nbconvert_exporter": "python",
   "pygments_lexer": "ipython3",
   "version": "3.9.13"
  }
 },
 "nbformat": 4,
 "nbformat_minor": 5
}
